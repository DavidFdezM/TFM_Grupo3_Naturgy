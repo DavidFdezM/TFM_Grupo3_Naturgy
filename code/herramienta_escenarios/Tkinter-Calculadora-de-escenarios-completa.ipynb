{
 "cells": [
  {
   "cell_type": "markdown",
   "id": "63cb81bb",
   "metadata": {},
   "source": [
    "# Ajuste predicción"
   ]
  },
  {
   "cell_type": "markdown",
   "id": "a11e59e4",
   "metadata": {},
   "source": [
    "## Interfaz"
   ]
  },
  {
   "cell_type": "code",
   "execution_count": 1,
   "id": "575f6077",
   "metadata": {},
   "outputs": [
    {
     "name": "stderr",
     "output_type": "stream",
     "text": [
      "2022-09-22 00:05:19.836 python[9400:2589297] Warning: Expected min height of view: (<NSButton: 0x7fb0319e3f10>) to be less than or equal to 30 but got a height of 32.000000. This error will be logged once per view in violation.\n",
      "2022-09-22 00:05:34.534 python[9400:2589297] Warning: Expected min height of view: (<NSButton: 0x7fb0720c5f90>) to be less than or equal to 30 but got a height of 32.000000. This error will be logged once per view in violation.\n",
      "2022-09-22 00:05:42.208 python[9400:2589297] Warning: Expected min height of view: (<NSButton: 0x7fb0720d1380>) to be less than or equal to 30 but got a height of 32.000000. This error will be logged once per view in violation.\n",
      "2022-09-22 00:05:48.628 python[9400:2589297] Warning: Expected min height of view: (<NSButton: 0x7fb0720d9c50>) to be less than or equal to 30 but got a height of 32.000000. This error will be logged once per view in violation.\n",
      "2022-09-22 00:05:51.540 python[9400:2589297] Warning: Expected min height of view: (<NSButton: 0x7fb0720e7b10>) to be less than or equal to 30 but got a height of 32.000000. This error will be logged once per view in violation.\n",
      "2022-09-22 00:06:20.778 python[9400:2589297] Warning: Expected min height of view: (<NSButton: 0x7fb031709fc0>) to be less than or equal to 30 but got a height of 32.000000. This error will be logged once per view in violation.\n"
     ]
    }
   ],
   "source": [
    "from tkinter import *\n",
    "from tkinter import ttk\n",
    "from tkinter.messagebox import *\n",
    "\n",
    "# Listas de variables y categorías\n",
    "#for col in freq:\n",
    "#    print(freq[col].unique())\n",
    "sociedad = [\"SOC01\", \"SOC02\"]\n",
    "\n",
    "segmento = [ \"SEG01\", \"SEG02\"]\n",
    "\n",
    "segmento2 = [ \"LP01\", \"LP03\", \"LP04\", \"SUBSEG01\", \"SUBSEG02\"]\n",
    "\n",
    "linea = [\"1\", \"2\", \"3\", \"4\"]\n",
    "\n",
    "agrupacion = [ \"1\", \"2\", \"3\", \"4\", \"5\", \"6\"]\n",
    "\n",
    "producto = [ \"PROD01\", \"PROD02\", \"PROD03\", \"PROD04\", \"PROD05\", \"PROD06\",\n",
    "           \"PROD07\", \"PROD08\", \"PROD09\", \"PROD10\", \"PROD11\", \"PROD12\", \"PROD13\"]\n",
    "\n",
    "canal = [ \"1\", \"2\", \"3\", \"4\", \"5\", \"6\", \"7\", \"8\", \"9\", \"10\", \"11\", \"99\"]\n",
    "\n",
    "zona = [\"PDTE\", \"ZONA01\", \"ZONA02\", \"ZONA03\"]\n",
    "\n",
    "variables = ['ID_SOCIEDAD', 'ID_SEGMENTO', 'SEGMENTO2', 'ID_LINEA_PRODUCTO_AGREG',\n",
    "            'ID_AGRUP_PRODUCTO', 'ID_AGRUP_PROD', 'ID_AGRUP_CANAL', 'ID_ZONA']\n",
    "\n",
    "    \n",
    "\n",
    "# Apaga y enciende, crear es on y modificar es off\n",
    "def apaga():\n",
    "    entry5_img.configure(file='Crea.png')\n",
    "    entry5_boton.configure(command=enciende,\n",
    "                           borderwidth=0, highlightthickness=0, bd=0,\n",
    "                           padx=0, pady=0,relief = \"flat\")\n",
    "    toggle.configure(text='Crea')\n",
    "    \n",
    "def enciende():\n",
    "    entry5_img.configure(file='Modifica.png')\n",
    "    entry5_boton.configure(command=apaga,\n",
    "                           borderwidth=0, highlightthickness=0, bd=0,\n",
    "                           padx=0, pady=0,relief = \"flat\")\n",
    "    toggle.configure(text='Modifica')\n",
    "    \n",
    "# Botón generar el escenario \n",
    "def guarda():\n",
    "    valor1 = entry0.get() # escenario\n",
    "    valor2 = entry1.get() # nuevas altas\n",
    "    valor3 = entry2.get() # variable\n",
    "    valor4 = entry3.get() # categoría\n",
    "    valor5 = entry4.get() # semana\n",
    "    # valor6 = entry5.get() # Añadir o iniciar nuevo escenario\n",
    "    valor7 = entry6.get() # Añadir o iniciar nuevo escenario\n",
    "    # valor8 = toggle.get() # Boton\n",
    "    showinfo('Escenario enviado', 'Escenario generado correctamente.')\n",
    "\n",
    "\n",
    "    data.append([valor1, valor2, valor3, valor4, valor5, valor7, toggle.cget('text')])\n",
    "    \n",
    "    return(data)\n",
    "\n",
    "# Función que une variables y categorías\n",
    "def categoria(e):\n",
    "    if entry2.get() == \"ID_SOCIEDAD\":\n",
    "        entry3.config(value=sociedad)\n",
    "        entry3.current(0)\n",
    "    if entry2.get() == \"ID_SEGMENTO\":\n",
    "        entry3.config(value=segmento)\n",
    "        entry3.current(0)\n",
    "    if entry2.get() == \"SEGMENTO2\":\n",
    "        entry3.config(value=segmento2)\n",
    "        entry3.current(0)\n",
    "    if entry2.get() == \"ID_LINEA_PRODUCTO_AGREG\":\n",
    "        entry3.config(value=linea)\n",
    "        entry3.current(0)\n",
    "    if entry2.get() == \"ID_AGRUP_PRODUCTO\":\n",
    "        entry3.config(value=agrupacion)\n",
    "        entry3.current(0)\n",
    "    if entry2.get() == \"ID_AGRUP_PROD\":\n",
    "        entry3.config(value=producto)\n",
    "        entry3.current(0)\n",
    "    if entry2.get() == \"ID_AGRUP_CANAL\":\n",
    "        entry3.config(value=canal)\n",
    "        entry3.current(0)\n",
    "    if entry2.get() == \"ID_ZONA\":\n",
    "        entry3.config(value=zona)\n",
    "        entry3.current(0)\n",
    "\n",
    "# Creación de la ventana, el canvas y el fondo\n",
    "\n",
    "data =[]\n",
    "\n",
    "window = Tk()\n",
    "window.geometry(\"862x712\")\n",
    "window.configure()\n",
    "canvas = Canvas(\n",
    "    window,\n",
    "    height = 712,\n",
    "    width = 862,\n",
    "    bd = 0,\n",
    "    highlightthickness = 0,\n",
    "    relief = \"ridge\")\n",
    "canvas.place(x = 0, y = 0)\n",
    "\n",
    "background_img = PhotoImage(file = \"Desktop-4.png\")\n",
    "background = canvas.create_image(0, 0, image=background_img, anchor=NW)\n",
    "\n",
    "    \n",
    "\n",
    "# Input 0: Selección Escenario\n",
    "\n",
    "entry0_img = PhotoImage(file = \"img_textBox1.png\")\n",
    "entry0_bg = canvas.create_image(\n",
    "    485, 180,\n",
    "    image = entry0_img, anchor=NW)\n",
    "\n",
    "entry0 = Entry(\n",
    "    bd = 0,\n",
    "    bg = \"#f6f7f9\",\n",
    "    highlightthickness = 0)\n",
    "\n",
    "entry0.place(\n",
    "    x = 490, y = 180,\n",
    "    width = 300.0,\n",
    "    height = 34)\n",
    "\n",
    "# Input 1: Número de Altas\n",
    "\n",
    "entry1_img = PhotoImage(file = \"img_textBox1.png\")\n",
    "entry1_bg = canvas.create_image(\n",
    "    485, 249,\n",
    "    image = entry0_img, anchor=NW)\n",
    "\n",
    "entry1 = Entry(\n",
    "    bd = 0,\n",
    "    bg = \"#f6f7f9\",\n",
    "    highlightthickness = 0)\n",
    "\n",
    "entry1.place(\n",
    "    x = 490, y = 249,\n",
    "    width = 300.0,\n",
    "    height = 34)\n",
    "\n",
    "# Input 2: Lista variable\n",
    "\n",
    "entry2_img = PhotoImage(file = \"img_textBox1.png\")\n",
    "entry2_bg = canvas.create_image(\n",
    "    485, 318,\n",
    "    image = entry1_img, anchor=NW)\n",
    "\n",
    "entry2 = ttk.Combobox(state=\"readonly\", value=variables)\n",
    "\n",
    "entry2.place(\n",
    "    x = 485, y = 318,\n",
    "    width = 350.0,\n",
    "    height = 34)\n",
    "\n",
    "# ligar con categoria\n",
    "entry2.bind(\"<<ComboboxSelected>>\", categoria)\n",
    "\n",
    "\n",
    "# Input 3: Categoría\n",
    "\n",
    "entry3_img = PhotoImage(file = \"img_textBox1.png\")\n",
    "entry3_bg = canvas.create_image(\n",
    "    485, 387,\n",
    "    image = entry2_img, anchor=NW)\n",
    "\n",
    "entry3 = ttk.Combobox(state=\"readonly\", value=[\" \"])\n",
    "\n",
    "entry3.place(\n",
    "   x = 485, y = 387,\n",
    "   width = 350.0,\n",
    "   height = 34)\n",
    "\n",
    "\n",
    "# Input 4: Semana afectada\n",
    "\n",
    "entry4_img = PhotoImage(file = \"img_textBox1.png\")\n",
    "entry4_bg = canvas.create_image(\n",
    "    485, 456,\n",
    "    image = entry3_img, anchor=NW)\n",
    "\n",
    "entry4 = Entry(\n",
    "    bd = 0,\n",
    "    bg = \"#f6f7f9\",\n",
    "    highlightthickness = 0)\n",
    "\n",
    "entry4.place(\n",
    "    x = 490, y = 456,\n",
    "    width = 300.0,\n",
    "    height = 34)\n",
    "\n",
    "# Input 5: Número Meses\n",
    "\n",
    "entry6_img = PhotoImage(file = \"img_textBox1.png\")\n",
    "entry6_bg = canvas.create_image(\n",
    "    485, 525,\n",
    "    image = entry3_img, anchor=NW)\n",
    "\n",
    "entry6 =  Entry(\n",
    "    bd = 0,\n",
    "    bg = \"#f6f7f9\",\n",
    "    highlightthickness = 0)\n",
    "\n",
    "entry6.place(\n",
    "    x = 490, y = 525,\n",
    "    width = 300.0,\n",
    "    height = 34)\n",
    "\n",
    "# Input 6: Crear o modificar\n",
    "    \n",
    "entry5_img = PhotoImage(file='Crea.png')\n",
    "entry5_boton = Button(image=entry5_img, \n",
    "                      command=enciende,\n",
    "                      borderwidth=0, highlightthickness=0, \n",
    "                      relief = \"flat\")\n",
    "entry5_boton.place(x=730, y=90)\n",
    "\n",
    "#toggle\n",
    "toggle = Label(window, text='Crea', border = 0, font =('bold',10), bg='white', fg='white')\n",
    "toggle.place(x=730, y=75)\n",
    "\n",
    "\n",
    "# Botón Final: Generar\n",
    "\n",
    "img0 = PhotoImage(file = \"img0.png\")\n",
    "b0 = Button(\n",
    "    image = img0,\n",
    "    borderwidth=0, highlightthickness=0, bd=0, padx=0, pady=0,\n",
    "    command= guarda)\n",
    "\n",
    "b0.place(\n",
    "    x = 555, y = 600,\n",
    "    width = 202,\n",
    "    height = 55, anchor=NW)\n",
    "\n",
    "\n",
    "#Fin de la ventana\n",
    "\n",
    "window.resizable(False, False)\n",
    "window.mainloop()"
   ]
  },
  {
   "cell_type": "code",
   "execution_count": 2,
   "id": "77e77741",
   "metadata": {},
   "outputs": [
    {
     "data": {
      "text/plain": [
       "[['1', '10000', 'ID_AGRUP_PRODUCTO', '1', '30/11/2022', '4', 'Crea']]"
      ]
     },
     "execution_count": 2,
     "metadata": {},
     "output_type": "execute_result"
    }
   ],
   "source": [
    "data"
   ]
  },
  {
   "cell_type": "markdown",
   "id": "e08572a3",
   "metadata": {},
   "source": [
    "## Reparto"
   ]
  },
  {
   "cell_type": "code",
   "execution_count": 3,
   "id": "aa1b8873",
   "metadata": {},
   "outputs": [],
   "source": [
    "import pandas as pd\n",
    "import numpy as np\n",
    "import warnings\n",
    "import datetime"
   ]
  },
  {
   "cell_type": "code",
   "execution_count": 4,
   "id": "dd551f77",
   "metadata": {},
   "outputs": [],
   "source": [
    "cols = ['Escenario','Cantidad', 'Variable', 'Categoria', 'Semana', 'num_sem', 'Add/start']\n",
    "\n",
    "df = pd.DataFrame (data, columns = cols)\n",
    "df = df.astype({'Cantidad':'int'})\n",
    "df['Semana'] = pd.to_datetime(df['Semana'], format='%d/%m/%Y')"
   ]
  },
  {
   "cell_type": "code",
   "execution_count": 5,
   "id": "b40ed9fa",
   "metadata": {},
   "outputs": [],
   "source": [
    "freq = pd.read_csv(\"../../dataframes/freq.csv\", sep=\",\")\n",
    "# TO DO: Dataset desde que calculo las frecuencias\n",
    "# en lugar de llamar a freq, hacerlo desde data preparation: \n",
    "# freq_fin = freq_fin.groupby(cols).agg('sum').reset_index()"
   ]
  },
  {
   "cell_type": "code",
   "execution_count": 6,
   "id": "a34fd311",
   "metadata": {},
   "outputs": [],
   "source": [
    "warnings.filterwarnings('ignore')\n",
    "\n",
    "escenario = df.iloc[0]['Escenario']\n",
    "altas = df.iloc[0]['Cantidad']\n",
    "var = df.iloc[0]['Variable']\n",
    "item = df.iloc[0]['Categoria']\n",
    "semana = df.iloc[0]['Semana']\n",
    "anadir_nuevo = df.iloc[0]['Add/start']\n",
    "num_sem = df.iloc[0]['num_sem']\n",
    "\n",
    "freq_aux = freq[freq[var]==item]\n",
    "suma_aux = freq_aux['freq'].sum()\n",
    "freq_aux['freq_calculada'] = freq_aux['freq'] / suma_aux\n",
    "freq_aux['Altas.New'] = freq_aux['freq_calculada']*altas\n",
    "freq_aux['fecha_semanas'] = semana\n",
    "\n",
    "# Comprobaciones\n",
    "# freq_auc['freq_calculada'].sum() okay, suma 1\n",
    "# freq_aux[var].unique() okay, solo está el item\n",
    "# freq_aux['Altas.New'].sum() okay, suma la cantidad introducida\n",
    "freq_aux['fecha_semanas'] = freq_aux['fecha_semanas'].dt.strftime('%d/%m/%Y') "
   ]
  },
  {
   "cell_type": "code",
   "execution_count": 7,
   "id": "61a89890",
   "metadata": {},
   "outputs": [],
   "source": [
    "# Seleccionar la columnas del df\n",
    "cols = list(freq_aux.columns.values)\n",
    "cols = cols[0:8]\n",
    "cols.append('fecha_semanas')\n",
    "cols.append('Altas.New')\n",
    "\n",
    "freq_fin = freq_aux[cols]\n",
    "#freq_fin"
   ]
  },
  {
   "cell_type": "code",
   "execution_count": 8,
   "id": "0ce0b406",
   "metadata": {},
   "outputs": [],
   "source": [
    "cols = list(freq_fin.columns.values)\n",
    "cols.pop()\n",
    "freq_fin = freq_fin.groupby(cols).agg('sum').reset_index()"
   ]
  },
  {
   "cell_type": "code",
   "execution_count": 9,
   "id": "40bb5cb6",
   "metadata": {},
   "outputs": [
    {
     "name": "stdout",
     "output_type": "stream",
     "text": [
      "Fase 1/4 Completada\n"
     ]
    }
   ],
   "source": [
    "print('Fase 1/4 Completada')"
   ]
  },
  {
   "cell_type": "markdown",
   "id": "9aa1a155",
   "metadata": {},
   "source": [
    "### Añadimos modificación al predict"
   ]
  },
  {
   "cell_type": "code",
   "execution_count": 4,
   "id": "df17af37",
   "metadata": {},
   "outputs": [
    {
     "name": "stderr",
     "output_type": "stream",
     "text": [
      "c:\\Users\\nano_\\AppData\\Local\\Programs\\Python\\Python39\\lib\\site-packages\\IPython\\core\\interactiveshell.py:3441: DtypeWarning: Columns (28,29,32,33) have mixed types.Specify dtype option on import or set low_memory=False.\n",
      "  exec(code_obj, self.user_global_ns, self.user_ns)\n"
     ]
    }
   ],
   "source": [
    "predict = pd.read_csv(\"../../dataframes/full_data_predictions_escenarios.csv\", sep=\";\")"
   ]
  },
  {
   "cell_type": "code",
   "execution_count": null,
   "id": "09c6ad0a",
   "metadata": {},
   "outputs": [],
   "source": [
    "columans_fin = predict.columns\n",
    "\n",
    "for col in predict.columns:\n",
    "    predict[col] = predict[col].astype(object)"
   ]
  },
  {
   "cell_type": "code",
   "execution_count": null,
   "id": "78fc07f6",
   "metadata": {},
   "outputs": [],
   "source": [
    "freq_fin = freq_fin.astype({'ID_LINEA_PRODUCTO_AGREG':'object', \n",
    "                            'ID_AGRUP_PRODUCTO':'object',\n",
    "                            'ID_AGRUP_CANAL':'object'})"
   ]
  },
  {
   "cell_type": "code",
   "execution_count": null,
   "id": "5d6206a7",
   "metadata": {},
   "outputs": [],
   "source": [
    "columnas = list(freq_fin.columns.values)\n",
    "columnas.pop()"
   ]
  },
  {
   "cell_type": "code",
   "execution_count": null,
   "id": "10359414",
   "metadata": {},
   "outputs": [],
   "source": [
    "print('Fase 2/4 Completada')"
   ]
  },
  {
   "cell_type": "markdown",
   "id": "6c9eb29f",
   "metadata": {},
   "source": [
    "### Corrección fecha introducida\n",
    "\n",
    "    Se entiende que el usuario puede errar a la hora de introducir la fecha por pantalla. \n",
    "\n",
    "    Aprovechamos que la fecha de la predicción siempre corresponde al último día de la semana (domingo) para asignarle esta a cualquier día de la semana introducido que sea de la misma semana. PE: si se introduce un día que es martes, se le asignará el domingo inmediatamente posterior a este\n",
    "    "
   ]
  },
  {
   "cell_type": "code",
   "execution_count": null,
   "id": "110b5ab2",
   "metadata": {},
   "outputs": [],
   "source": [
    "# Pasamos el tipo de la columna a datetime para que entienda posteriormente el \"<\"\n",
    "predict['fecha_semanas'] = pd.to_datetime(predict['fecha_semanas'], format='%d/%m/%Y' , errors='coerce')\n",
    "# La menor de las fechas mayores a la introducida, será el siguiente domingo\n",
    "fecha_corregida = min(predict['fecha_semanas'][predict['fecha_semanas']>=semana])\n",
    "# Imputamos la fecha\n",
    "freq_fin['fecha_semanas'] = fecha_corregida"
   ]
  },
  {
   "cell_type": "markdown",
   "id": "48325dc3",
   "metadata": {},
   "source": [
    "### Altas añadidas en más de 1 semana\n",
    "\n",
    "    Dividimos las altas introducidas entre las semanas seleccionadas"
   ]
  },
  {
   "cell_type": "code",
   "execution_count": null,
   "id": "c0467e97",
   "metadata": {},
   "outputs": [],
   "source": [
    "if int(num_sem) > 1:\n",
    "    # PROVISIONAL: Dividimos la columna de altas por el número de semanas\n",
    "    freq_fin['Altas.New'] /= int(num_sem)\n",
    "    # Cogemos la fecha corregida\n",
    "    semana_tmp = fecha_corregida\n",
    "    # Creamos data frame temporal\n",
    "    freq_fin_tmp = freq_fin\n",
    "    for i in range(int(num_sem)-1):\n",
    "        \n",
    "        # Nueva fecha. La siguiente posteriormente a la introducida\n",
    "        fecha_corregida = min(predict['fecha_semanas'][predict['fecha_semanas']>semana_tmp])\n",
    "        # Imputamos la fecha nueva\n",
    "        freq_fin_tmp['fecha_semanas'] = fecha_corregida\n",
    "        # Unimos el data frame temporal con el nuevo\n",
    "        freq_fin = pd.concat([freq_fin, freq_fin_tmp])\n",
    "        # Guardamos la fecha para el siguiente ciclo\n",
    "        semana_tmp = fecha_corregida\n",
    "\n",
    "else:\n",
    "    pass"
   ]
  },
  {
   "cell_type": "code",
   "execution_count": null,
   "id": "6646efb1",
   "metadata": {},
   "outputs": [],
   "source": [
    "# Cambiamos el formato de la fecha para que haga bien el merge\n",
    "freq_fin['fecha_semanas'] = freq_fin['fecha_semanas'].dt.strftime('%d/%m/%Y') \n",
    "predict['fecha_semanas'] = predict['fecha_semanas'].dt.strftime('%d/%m/%Y') "
   ]
  },
  {
   "cell_type": "code",
   "execution_count": null,
   "id": "35a261a9",
   "metadata": {},
   "outputs": [],
   "source": [
    "print('Fase 3/4 Completada')"
   ]
  },
  {
   "cell_type": "markdown",
   "id": "870ca45c",
   "metadata": {},
   "source": [
    "### Merge final y nuevas altas + neto"
   ]
  },
  {
   "cell_type": "code",
   "execution_count": null,
   "id": "509276de",
   "metadata": {},
   "outputs": [],
   "source": [
    "# Los datos están tratados para importarlos en powerbi\n",
    "# por tanto hay que cambiar el \",\" por \".\" para que python lo entienda\n",
    "lista = ['ID_LINEA_PRODUCTO_AGREG', \n",
    "         'ID_AGRUP_PRODUCTO',\n",
    "         'ID_AGRUP_CANAL',\n",
    "         'Altas M',\n",
    "         'Bajas M',\n",
    "         'yhat_Altas M',\n",
    "         'yhat_Bajas M',\n",
    "         'Altas_e1',\n",
    "         'Neto_e1',\n",
    "         'Altas_e2',\n",
    "         'Neto_e2',\n",
    "         'Altas_e3',\n",
    "         'Neto_e3',\n",
    "         'Altas_e4',\n",
    "         'Neto_e4',\n",
    "         'Altas_e5',\n",
    "         'Neto_e5']\n",
    "for col in lista:\n",
    "    predict[col] = predict[col].astype(str).str.replace(\",\", \".\").astype(float)"
   ]
  },
  {
   "cell_type": "code",
   "execution_count": null,
   "id": "cb356242",
   "metadata": {},
   "outputs": [],
   "source": [
    "# Merge\n",
    "predict = predict.merge(freq_fin, how = 'left', on= columnas)\n",
    "# Pasamos a 0 las nulas\n",
    "predict['Altas.New'] = predict['Altas.New'].fillna(0)\n",
    "#Altas E1:E5"
   ]
  },
  {
   "cell_type": "code",
   "execution_count": null,
   "id": "14fada2f",
   "metadata": {},
   "outputs": [],
   "source": [
    "# Seleccionamos la columna\n",
    "escenario = int(escenario)\n",
    "columna_e = 'Altas_e' + str(escenario)\n",
    "columna_n = 'Neto_e' + str(escenario)\n",
    "\n",
    "# Cálculo del nuevo altas\n",
    "if anadir_nuevo == 'Modifica':\n",
    "    # si t = 0 --> predict[columna_e] = predict['yhat_Altas'] + predict['Altas.New']\n",
    "    predict[columna_e] = predict[columna_e] + predict['Altas.New']\n",
    "else:\n",
    "    predict[columna_e] = predict['Altas.New']\n",
    "\n",
    "# Cálculo del nuevo neto\n",
    "predict[columna_n] = np.where(predict['Altas M'].isnull(), predict['yhat_Altas M'],predict['Altas M'])\\\n",
    "                   + np.where(predict['Altas M'].isnull(), predict['yhat_Bajas M'],predict['Bajas M'])\\\n",
    "                   + predict[columna_e]\n",
    "\n",
    "# Filtramos columnas del data frame input\n",
    "predict = predict[columans_fin]"
   ]
  },
  {
   "cell_type": "code",
   "execution_count": null,
   "id": "28f8fbf1",
   "metadata": {},
   "outputs": [],
   "source": [
    "# Los datos están tratados para importarlos en powerbi\n",
    "# por tanto hay que cambiar el \",\" por \".\" para que python lo entienda\n",
    "lista = ['ID_LINEA_PRODUCTO_AGREG', \n",
    "         'ID_AGRUP_PRODUCTO',\n",
    "         'ID_AGRUP_CANAL',\n",
    "         'Altas M',\n",
    "         'Bajas M',\n",
    "         'yhat_Altas M',\n",
    "         'yhat_Bajas M',\n",
    "         'Altas_e1',\n",
    "         'Neto_e1',\n",
    "         'Altas_e2',\n",
    "         'Neto_e2',\n",
    "         'Altas_e3',\n",
    "         'Neto_e3',\n",
    "         'Altas_e4',\n",
    "         'Neto_e4',\n",
    "         'Altas_e5',\n",
    "         'Neto_e5']\n",
    "for col in lista:\n",
    "    predict[col] = predict[col].astype(str).str.replace(\".\", \",\").astype(object)"
   ]
  },
  {
   "cell_type": "markdown",
   "id": "79c09ac1",
   "metadata": {},
   "source": [
    "## Exportación a GitHub"
   ]
  },
  {
   "cell_type": "code",
   "execution_count": null,
   "id": "c67f5646",
   "metadata": {},
   "outputs": [],
   "source": [
    "predict.to_csv(\"../../dataframes/full_data_predictions_escenarios.csv\", sep=\";\")"
   ]
  },
  {
   "cell_type": "code",
   "execution_count": null,
   "id": "a7d31dfc",
   "metadata": {},
   "outputs": [],
   "source": [
    "print('Fase 4/4 Completada. Exportado \"full_data_predictions_escenarios.csv\" correctamente')"
   ]
  }
 ],
 "metadata": {
  "kernelspec": {
   "display_name": "Python 3 (ipykernel)",
   "language": "python",
   "name": "python3"
  },
  "language_info": {
   "codemirror_mode": {
    "name": "ipython",
    "version": 3
   },
   "file_extension": ".py",
   "mimetype": "text/x-python",
   "name": "python",
   "nbconvert_exporter": "python",
   "pygments_lexer": "ipython3",
   "version": "3.8.12"
  },
  "vscode": {
   "interpreter": {
    "hash": "595c81685fa81e07c3422374bdd14215e45765fd2762e84ee546693cc1d5d505"
   }
  }
 },
 "nbformat": 4,
 "nbformat_minor": 5
}
