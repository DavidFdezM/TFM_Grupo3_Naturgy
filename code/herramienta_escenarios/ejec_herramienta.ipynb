{
 "cells": [
  {
   "cell_type": "markdown",
   "metadata": {},
   "source": [
    "# Herramienta Escanrios\n",
    "\n",
    "    Ejecutar chunk para iniciar herrmienta escenarios"
   ]
  },
  {
   "cell_type": "code",
   "execution_count": 3,
   "metadata": {},
   "outputs": [
    {
     "name": "stdout",
     "output_type": "stream",
     "text": [
      "Fase 1/4 Completada\n",
      "Fase 2/4 Completada\n",
      "Fase 3/4 Completada\n",
      "Fase 4/4 Completada. Exportado \"full_data_predictions_escenarios.csv\" correctamente\n"
     ]
    }
   ],
   "source": [
    "%run Tkinter-Calculadora-de-escenarios-completa.ipynb"
   ]
  }
 ],
 "metadata": {
  "kernelspec": {
   "display_name": "Python 3.9.7 ('venv': venv)",
   "language": "python",
   "name": "python3"
  },
  "language_info": {
   "codemirror_mode": {
    "name": "ipython",
    "version": 3
   },
   "file_extension": ".py",
   "mimetype": "text/x-python",
   "name": "python",
   "nbconvert_exporter": "python",
   "pygments_lexer": "ipython3",
   "version": "3.9.7"
  },
  "orig_nbformat": 4,
  "vscode": {
   "interpreter": {
    "hash": "b9855b413215985a6bde47e021364c13c802c884f5624363d78298d72ead35f9"
   }
  }
 },
 "nbformat": 4,
 "nbformat_minor": 2
}
