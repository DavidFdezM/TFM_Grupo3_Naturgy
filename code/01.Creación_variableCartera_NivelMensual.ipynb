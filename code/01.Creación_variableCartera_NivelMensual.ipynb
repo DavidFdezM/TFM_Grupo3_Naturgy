{
 "cells": [
  {
   "cell_type": "markdown",
   "id": "86d6cbef",
   "metadata": {},
   "source": [
    "# ANEXO 02"
   ]
  },
  {
   "cell_type": "markdown",
   "id": "e8ea4d76",
   "metadata": {},
   "source": [
    "## Preparación de la base de datos\n",
    "\n",
    "En este documento se procede a crear la variable Cartera_Acu, la cual vino dada de forma que el primer valor de cada escenario es correcto, y a partir de ahí, el valor presentado en la columna es el valor neto de mes."
   ]
  },
  {
   "cell_type": "markdown",
   "id": "164ce174",
   "metadata": {},
   "source": [
    "Cargamos las librerias"
   ]
  },
  {
   "cell_type": "code",
   "execution_count": 1,
   "id": "977c0f1d",
   "metadata": {},
   "outputs": [],
   "source": [
    "#General\n",
    "import pandas as pd\n",
    "import numpy as np\n",
    "from datetime import datetime"
   ]
  },
  {
   "cell_type": "markdown",
   "id": "8bec9334",
   "metadata": {},
   "source": [
    "Y fijamos el directorio de trabajo"
   ]
  },
  {
   "cell_type": "code",
   "execution_count": 2,
   "id": "59dad3dc",
   "metadata": {},
   "outputs": [],
   "source": [
    "data = pd.read_csv('../dataframes/Actividad_comercial_v01.csv')"
   ]
  },
  {
   "cell_type": "markdown",
   "id": "673d56d3",
   "metadata": {},
   "source": [
    "## Recálculo columna Carteras"
   ]
  },
  {
   "cell_type": "markdown",
   "id": "3376e24f",
   "metadata": {},
   "source": [
    "Antes de realizar el análisis de la base de datos, debemos preparar la misma.\n",
    "El cliente nos indicó que la columna de carteras final no estaba correctamente calculada, por lo que se recalcula como:\n",
    "    \n",
    "$$ Cartera_{n} = Cartera_{n-1} +  Altas_{n} - Bajas_{n} $$\n",
    "\n",
    "Siendo n el mes tratado\n",
    "    \n",
    "Hay que hace distinción entre cada combinación de variables. Para solventar este problema generamos una base con los campos únicos y rellenaremos con la info que tengamos de cada mes. En caso de no haberla, rellenamos con 0s"
   ]
  },
  {
   "cell_type": "markdown",
   "id": "36b24ea1",
   "metadata": {},
   "source": [
    "Modificamos las variables al tipo correspondiente:    "
   ]
  },
  {
   "cell_type": "code",
   "execution_count": 3,
   "id": "00aa3dd7",
   "metadata": {},
   "outputs": [],
   "source": [
    "for i in data.columns[0:10]:\n",
    "    data[i] = data[i].astype('object')\n",
    "    \n",
    "data['Fecha_Mes'] = pd.to_datetime(data.Fecha_Mes)"
   ]
  },
  {
   "cell_type": "code",
   "execution_count": 4,
   "id": "8e4481ed",
   "metadata": {},
   "outputs": [],
   "source": [
    "data.rename(columns = {'Neto M':'Neto_M', 'Bajas M' : 'Bajas_M', 'Altas M': 'Altas_M'}, inplace = True)"
   ]
  },
  {
   "cell_type": "code",
   "execution_count": 5,
   "id": "218dc3d2",
   "metadata": {},
   "outputs": [
    {
     "name": "stdout",
     "output_type": "stream",
     "text": [
      "OK, las variables están en el estado correcto\n"
     ]
    }
   ],
   "source": [
    "#Verificamos que todos tenemos los mismos tipos de datos\n",
    "if (all(data.select_dtypes(include='object').columns == pd.Series(['ID_SOCIEDAD', 'ID_SEGMENTO', 'SEGMENTO2', 'ID_LINEA_PRODUCTO_AGREG',\n",
    "       'ID_AGRUP_PRODUCTO', 'ID_AGRUP_PROD', 'ID_AGRUP_CANAL', 'ID_ZONA',\n",
    "       'Año', 'ID_MES'])) == True and \n",
    "    all(data.select_dtypes(include='datetime64').columns == pd.Series(['Fecha_Mes'])) == True and\n",
    "    all(data.select_dtypes(include='int64').columns == pd.Series(['Altas_M', 'Altas_Mes_C+T', 'Altas_Mes_Tra', 'Bajas_M', 'Bajas_Mes_C+T',\n",
    "       'Bajas_Mes_Tra', 'Neto_M', 'Cartera_Acu'])) == True):\n",
    "   print('OK, las variables están en el estado correcto')\n",
    "else:\n",
    "    print('Hay que asignar las variables al estado correcto para continuar con el EDA.')\n",
    "    # para verificar el estado utilizar dtypes: data.dtypes\n",
    "    # para cambiar el estado utilizar astype: df['col'].astype(dtype)"
   ]
  },
  {
   "cell_type": "markdown",
   "id": "2380bf57",
   "metadata": {},
   "source": [
    "Separamos nuestras variables"
   ]
  },
  {
   "cell_type": "code",
   "execution_count": 6,
   "id": "0e02e877",
   "metadata": {},
   "outputs": [],
   "source": [
    "# Variables numéricas\n",
    "data_num = data.select_dtypes(np.number)\n",
    "# Variables cualitativas\n",
    "data_cual = data.select_dtypes(np.object_)\n",
    "# Variable tiempo\n",
    "data_tmp = data.select_dtypes(np.datetime64)"
   ]
  },
  {
   "cell_type": "markdown",
   "id": "40d85161",
   "metadata": {},
   "source": [
    "### Generación base"
   ]
  },
  {
   "cell_type": "markdown",
   "id": "bfd28802",
   "metadata": {},
   "source": [
    "Cogemos nuestras variables cualitativas y nos quedamos con la combinación de estas única sin tener en cuenta las fechas. "
   ]
  },
  {
   "cell_type": "code",
   "execution_count": 7,
   "id": "539cc905",
   "metadata": {},
   "outputs": [],
   "source": [
    "# Generamos la base de cualitativas\n",
    "base_data = data_cual[data_cual.columns[0:8]].drop_duplicates()\n",
    "# Nos cargamos el índice\n",
    "base_data.reset_index(inplace = True, drop = True)\n",
    "# Valores bucle\n",
    "index_mes = data_cual['ID_MES'].unique()"
   ]
  },
  {
   "cell_type": "markdown",
   "id": "ed68ba0c",
   "metadata": {},
   "source": [
    "Generación del data frame vacío"
   ]
  },
  {
   "cell_type": "code",
   "execution_count": 8,
   "id": "bac50b24",
   "metadata": {},
   "outputs": [],
   "source": [
    "union = pd.DataFrame()\n",
    "for i in index_mes:\n",
    "    base_temp = base_data\n",
    "    base_temp['ID_MES'] = i\n",
    "    # Pegamos los valores cuantitativos y fechas que faltan\n",
    "    df_temp = pd.merge(base_temp, \n",
    "                       data,\n",
    "                       how ='left',\n",
    "                       on = ['ID_SOCIEDAD', \n",
    "                             'ID_SEGMENTO', \n",
    "                             'SEGMENTO2', \n",
    "                             'ID_LINEA_PRODUCTO_AGREG',\n",
    "                             'ID_AGRUP_PRODUCTO', \n",
    "                             'ID_AGRUP_PROD', \n",
    "                             'ID_AGRUP_CANAL', \n",
    "                             'ID_ZONA',\n",
    "                             'ID_MES']\n",
    "                      )\n",
    "    # Unimos la base con las anteriores\n",
    "    union = pd.concat([union, df_temp])\n",
    "    \n",
    "union = union.fillna('0.0')"
   ]
  },
  {
   "cell_type": "code",
   "execution_count": 9,
   "id": "72d7ebe2",
   "metadata": {},
   "outputs": [],
   "source": [
    "# Recalificamos las variables cualitativas y numéricas\n",
    "for i in data_cual.columns:\n",
    "    union[i] = union[i].astype('object')\n",
    "\n",
    "for i in data_num.columns:\n",
    "    union[i] = union[i].astype('float')"
   ]
  },
  {
   "cell_type": "markdown",
   "id": "a36f551e",
   "metadata": {},
   "source": [
    "   ¿Seguimos teniendo las mismas altas y bajas?"
   ]
  },
  {
   "cell_type": "code",
   "execution_count": 10,
   "id": "130e7d32",
   "metadata": {},
   "outputs": [
    {
     "data": {
      "text/plain": [
       "sum    0.0\n",
       "Name: Neto_M, dtype: float64"
      ]
     },
     "execution_count": 10,
     "metadata": {},
     "output_type": "execute_result"
    }
   ],
   "source": [
    "data['Neto_M'].agg(['sum']) - union['Neto_M'].agg(['sum'])"
   ]
  },
  {
   "cell_type": "markdown",
   "id": "0722681e",
   "metadata": {},
   "source": [
    "### Cálculo\n",
    "\n",
    "Vamos a provechar los índices repetidos que tenemos para el cálculo del total. \n",
    "    \n",
    "Como la estructura está repetida es fácil relacionar cada uno de los totales"
   ]
  },
  {
   "cell_type": "code",
   "execution_count": 11,
   "id": "ec495c3e",
   "metadata": {},
   "outputs": [],
   "source": [
    "# Cargamos los datos\n",
    "data_prov = union\n",
    "# Reseteamos el índice\n",
    "data_prov.reset_index(inplace = True, drop = True)\n",
    "# Data frame vacío para ir pegando el correcto\n",
    "Cartera_Acu_fin = pd.DataFrame()"
   ]
  },
  {
   "cell_type": "code",
   "execution_count": 12,
   "id": "ea77fe3b",
   "metadata": {},
   "outputs": [
    {
     "data": {
      "text/html": [
       "<div>\n",
       "<style scoped>\n",
       "    .dataframe tbody tr th:only-of-type {\n",
       "        vertical-align: middle;\n",
       "    }\n",
       "\n",
       "    .dataframe tbody tr th {\n",
       "        vertical-align: top;\n",
       "    }\n",
       "\n",
       "    .dataframe thead th {\n",
       "        text-align: right;\n",
       "    }\n",
       "</style>\n",
       "<table border=\"1\" class=\"dataframe\">\n",
       "  <thead>\n",
       "    <tr style=\"text-align: right;\">\n",
       "      <th></th>\n",
       "      <th>ID_SOCIEDAD</th>\n",
       "      <th>ID_SEGMENTO</th>\n",
       "      <th>SEGMENTO2</th>\n",
       "      <th>ID_LINEA_PRODUCTO_AGREG</th>\n",
       "      <th>ID_AGRUP_PRODUCTO</th>\n",
       "      <th>ID_AGRUP_PROD</th>\n",
       "      <th>ID_AGRUP_CANAL</th>\n",
       "      <th>ID_ZONA</th>\n",
       "      <th>ID_MES</th>\n",
       "      <th>Año</th>\n",
       "      <th>Fecha_Mes</th>\n",
       "      <th>Altas_M</th>\n",
       "      <th>Altas_Mes_C+T</th>\n",
       "      <th>Altas_Mes_Tra</th>\n",
       "      <th>Bajas_M</th>\n",
       "      <th>Bajas_Mes_C+T</th>\n",
       "      <th>Bajas_Mes_Tra</th>\n",
       "      <th>Neto_M</th>\n",
       "      <th>Cartera_Acu</th>\n",
       "    </tr>\n",
       "  </thead>\n",
       "  <tbody>\n",
       "    <tr>\n",
       "      <th>0</th>\n",
       "      <td>SOC01</td>\n",
       "      <td>SEG01</td>\n",
       "      <td>LP01</td>\n",
       "      <td>1</td>\n",
       "      <td>1</td>\n",
       "      <td>PROD12</td>\n",
       "      <td>1</td>\n",
       "      <td>ZONA01</td>\n",
       "      <td>201912</td>\n",
       "      <td>2019</td>\n",
       "      <td>2019-12-31 00:00:00</td>\n",
       "      <td>4.0</td>\n",
       "      <td>4.0</td>\n",
       "      <td>0.0</td>\n",
       "      <td>-1.0</td>\n",
       "      <td>-1.0</td>\n",
       "      <td>0.0</td>\n",
       "      <td>3.0</td>\n",
       "      <td>131.0</td>\n",
       "    </tr>\n",
       "    <tr>\n",
       "      <th>1</th>\n",
       "      <td>SOC02</td>\n",
       "      <td>SEG01</td>\n",
       "      <td>LP01</td>\n",
       "      <td>1</td>\n",
       "      <td>1</td>\n",
       "      <td>PROD02</td>\n",
       "      <td>1</td>\n",
       "      <td>ZONA01</td>\n",
       "      <td>201912</td>\n",
       "      <td>2019</td>\n",
       "      <td>2019-12-31 00:00:00</td>\n",
       "      <td>4.0</td>\n",
       "      <td>4.0</td>\n",
       "      <td>0.0</td>\n",
       "      <td>-3.0</td>\n",
       "      <td>-3.0</td>\n",
       "      <td>0.0</td>\n",
       "      <td>1.0</td>\n",
       "      <td>630.0</td>\n",
       "    </tr>\n",
       "    <tr>\n",
       "      <th>2</th>\n",
       "      <td>SOC02</td>\n",
       "      <td>SEG01</td>\n",
       "      <td>LP01</td>\n",
       "      <td>1</td>\n",
       "      <td>1</td>\n",
       "      <td>PROD09</td>\n",
       "      <td>1</td>\n",
       "      <td>ZONA01</td>\n",
       "      <td>201912</td>\n",
       "      <td>2019</td>\n",
       "      <td>2019-12-31 00:00:00</td>\n",
       "      <td>3.0</td>\n",
       "      <td>3.0</td>\n",
       "      <td>0.0</td>\n",
       "      <td>-163.0</td>\n",
       "      <td>-163.0</td>\n",
       "      <td>0.0</td>\n",
       "      <td>-160.0</td>\n",
       "      <td>20503.0</td>\n",
       "    </tr>\n",
       "    <tr>\n",
       "      <th>3</th>\n",
       "      <td>SOC02</td>\n",
       "      <td>SEG02</td>\n",
       "      <td>LP01</td>\n",
       "      <td>1</td>\n",
       "      <td>1</td>\n",
       "      <td>PROD02</td>\n",
       "      <td>1</td>\n",
       "      <td>ZONA01</td>\n",
       "      <td>201912</td>\n",
       "      <td>2019</td>\n",
       "      <td>2019-12-31 00:00:00</td>\n",
       "      <td>18.0</td>\n",
       "      <td>18.0</td>\n",
       "      <td>0.0</td>\n",
       "      <td>-73.0</td>\n",
       "      <td>-73.0</td>\n",
       "      <td>0.0</td>\n",
       "      <td>-55.0</td>\n",
       "      <td>4167.0</td>\n",
       "    </tr>\n",
       "  </tbody>\n",
       "</table>\n",
       "</div>"
      ],
      "text/plain": [
       "  ID_SOCIEDAD ID_SEGMENTO SEGMENTO2 ID_LINEA_PRODUCTO_AGREG ID_AGRUP_PRODUCTO  \\\n",
       "0       SOC01       SEG01      LP01                       1                 1   \n",
       "1       SOC02       SEG01      LP01                       1                 1   \n",
       "2       SOC02       SEG01      LP01                       1                 1   \n",
       "3       SOC02       SEG02      LP01                       1                 1   \n",
       "\n",
       "  ID_AGRUP_PROD ID_AGRUP_CANAL ID_ZONA  ID_MES   Año            Fecha_Mes  \\\n",
       "0        PROD12              1  ZONA01  201912  2019  2019-12-31 00:00:00   \n",
       "1        PROD02              1  ZONA01  201912  2019  2019-12-31 00:00:00   \n",
       "2        PROD09              1  ZONA01  201912  2019  2019-12-31 00:00:00   \n",
       "3        PROD02              1  ZONA01  201912  2019  2019-12-31 00:00:00   \n",
       "\n",
       "   Altas_M  Altas_Mes_C+T  Altas_Mes_Tra  Bajas_M  Bajas_Mes_C+T  \\\n",
       "0      4.0            4.0            0.0     -1.0           -1.0   \n",
       "1      4.0            4.0            0.0     -3.0           -3.0   \n",
       "2      3.0            3.0            0.0   -163.0         -163.0   \n",
       "3     18.0           18.0            0.0    -73.0          -73.0   \n",
       "\n",
       "   Bajas_Mes_Tra  Neto_M  Cartera_Acu  \n",
       "0            0.0     3.0        131.0  \n",
       "1            0.0     1.0        630.0  \n",
       "2            0.0  -160.0      20503.0  \n",
       "3            0.0   -55.0       4167.0  "
      ]
     },
     "execution_count": 12,
     "metadata": {},
     "output_type": "execute_result"
    }
   ],
   "source": [
    "# Columnas merge\n",
    "col_merge = list(data_cual.columns.drop('Año').drop('ID_MES')) + ['Cartera_Acu']\n",
    "# Columnas final\n",
    "col_fin = list(data_prov.columns)\n",
    "for i, j in enumerate(index_mes):\n",
    "\n",
    "    # Cogemos los datos de cada mes\n",
    "    df_tmp = data_prov[data_prov['ID_MES'] == j]\n",
    "    # Columnas D\n",
    "    \n",
    "    \n",
    "    if i == 0:\n",
    "        # El primer més lo consideramos como el correcto\n",
    "        Cartera_Acu_fin = pd.concat([Cartera_Acu_fin, df_tmp])\n",
    "    else:\n",
    "        # Cargamos los valores de cartera del mes anterior\n",
    "        df_tmp_ant = Cartera_Acu_fin[Cartera_Acu_fin['ID_MES'] == mes_ant][col_merge]\n",
    "        # Renombramos la columna nueva\n",
    "        df_tmp_ant = df_tmp_ant.rename(columns = {'Cartera_Acu': 'Cartera_Acu_mes_ant'})\n",
    "        # Unimos los Data frames para pegar la cartera antigua\n",
    "        df_tmp = pd.merge(df_tmp, df_tmp_ant, \n",
    "                          how = 'left',\n",
    "                          on = ['ID_SOCIEDAD', \n",
    "                                'ID_SEGMENTO', \n",
    "                                'SEGMENTO2', \n",
    "                                'ID_LINEA_PRODUCTO_AGREG',\n",
    "                                'ID_AGRUP_PRODUCTO', \n",
    "                                'ID_AGRUP_PROD', \n",
    "                                'ID_AGRUP_CANAL', \n",
    "                                'ID_ZONA']\n",
    "                         )\n",
    "        # Calculamos la cartera nueva\n",
    "        df_tmp['Cartera_Acu'] = df_tmp['Cartera_Acu_mes_ant']  + df_tmp['Altas_M'] + df_tmp['Bajas_M']\n",
    "        # Limpiamos las columnas que sobran\n",
    "        df_tmp = df_tmp[col_fin]\n",
    "        # Unimos los data frames\n",
    "        Cartera_Acu_fin = pd.concat([Cartera_Acu_fin, df_tmp])\n",
    "    \n",
    "    # Guardamos el mes anterior\n",
    "    mes_ant = j\n",
    "    \n",
    "Cartera_Acu_fin.reset_index(inplace = True, drop = True)\n",
    "\n",
    "data_cartera = Cartera_Acu_fin\n",
    "\n",
    "data_cartera.head(4)"
   ]
  },
  {
   "cell_type": "markdown",
   "id": "dda6e481",
   "metadata": {},
   "source": [
    "### Corección Columna Fecha Mes\n",
    "\n",
    "La columna \"Fecha Mes\" se nos ha corrompido un poco al generar la base\n",
    "    \n",
    "Generamos un diccionario con las relaciones entre los ID_MES que si está correcto y la fecha mes"
   ]
  },
  {
   "cell_type": "code",
   "execution_count": 13,
   "id": "f3a1140b",
   "metadata": {},
   "outputs": [
    {
     "data": {
      "text/html": [
       "<div>\n",
       "<style scoped>\n",
       "    .dataframe tbody tr th:only-of-type {\n",
       "        vertical-align: middle;\n",
       "    }\n",
       "\n",
       "    .dataframe tbody tr th {\n",
       "        vertical-align: top;\n",
       "    }\n",
       "\n",
       "    .dataframe thead th {\n",
       "        text-align: right;\n",
       "    }\n",
       "</style>\n",
       "<table border=\"1\" class=\"dataframe\">\n",
       "  <thead>\n",
       "    <tr style=\"text-align: right;\">\n",
       "      <th></th>\n",
       "      <th>ID_SOCIEDAD</th>\n",
       "      <th>ID_SEGMENTO</th>\n",
       "      <th>SEGMENTO2</th>\n",
       "      <th>ID_LINEA_PRODUCTO_AGREG</th>\n",
       "      <th>ID_AGRUP_PRODUCTO</th>\n",
       "      <th>ID_AGRUP_PROD</th>\n",
       "      <th>ID_AGRUP_CANAL</th>\n",
       "      <th>ID_ZONA</th>\n",
       "      <th>ID_MES</th>\n",
       "      <th>Año</th>\n",
       "      <th>Fecha_Mes</th>\n",
       "      <th>Altas_M</th>\n",
       "      <th>Altas_Mes_C+T</th>\n",
       "      <th>Altas_Mes_Tra</th>\n",
       "      <th>Bajas_M</th>\n",
       "      <th>Bajas_Mes_C+T</th>\n",
       "      <th>Bajas_Mes_Tra</th>\n",
       "      <th>Neto_M</th>\n",
       "      <th>Cartera_Acu</th>\n",
       "    </tr>\n",
       "  </thead>\n",
       "  <tbody>\n",
       "    <tr>\n",
       "      <th>0</th>\n",
       "      <td>SOC01</td>\n",
       "      <td>SEG01</td>\n",
       "      <td>LP01</td>\n",
       "      <td>1</td>\n",
       "      <td>1</td>\n",
       "      <td>PROD12</td>\n",
       "      <td>1</td>\n",
       "      <td>ZONA01</td>\n",
       "      <td>201912</td>\n",
       "      <td>2019</td>\n",
       "      <td>2019-12-31</td>\n",
       "      <td>4.0</td>\n",
       "      <td>4.0</td>\n",
       "      <td>0.0</td>\n",
       "      <td>-1.0</td>\n",
       "      <td>-1.0</td>\n",
       "      <td>0.0</td>\n",
       "      <td>3.0</td>\n",
       "      <td>131.0</td>\n",
       "    </tr>\n",
       "    <tr>\n",
       "      <th>1</th>\n",
       "      <td>SOC02</td>\n",
       "      <td>SEG01</td>\n",
       "      <td>LP01</td>\n",
       "      <td>1</td>\n",
       "      <td>1</td>\n",
       "      <td>PROD02</td>\n",
       "      <td>1</td>\n",
       "      <td>ZONA01</td>\n",
       "      <td>201912</td>\n",
       "      <td>2019</td>\n",
       "      <td>2019-12-31</td>\n",
       "      <td>4.0</td>\n",
       "      <td>4.0</td>\n",
       "      <td>0.0</td>\n",
       "      <td>-3.0</td>\n",
       "      <td>-3.0</td>\n",
       "      <td>0.0</td>\n",
       "      <td>1.0</td>\n",
       "      <td>630.0</td>\n",
       "    </tr>\n",
       "    <tr>\n",
       "      <th>2</th>\n",
       "      <td>SOC02</td>\n",
       "      <td>SEG01</td>\n",
       "      <td>LP01</td>\n",
       "      <td>1</td>\n",
       "      <td>1</td>\n",
       "      <td>PROD09</td>\n",
       "      <td>1</td>\n",
       "      <td>ZONA01</td>\n",
       "      <td>201912</td>\n",
       "      <td>2019</td>\n",
       "      <td>2019-12-31</td>\n",
       "      <td>3.0</td>\n",
       "      <td>3.0</td>\n",
       "      <td>0.0</td>\n",
       "      <td>-163.0</td>\n",
       "      <td>-163.0</td>\n",
       "      <td>0.0</td>\n",
       "      <td>-160.0</td>\n",
       "      <td>20503.0</td>\n",
       "    </tr>\n",
       "    <tr>\n",
       "      <th>3</th>\n",
       "      <td>SOC02</td>\n",
       "      <td>SEG02</td>\n",
       "      <td>LP01</td>\n",
       "      <td>1</td>\n",
       "      <td>1</td>\n",
       "      <td>PROD02</td>\n",
       "      <td>1</td>\n",
       "      <td>ZONA01</td>\n",
       "      <td>201912</td>\n",
       "      <td>2019</td>\n",
       "      <td>2019-12-31</td>\n",
       "      <td>18.0</td>\n",
       "      <td>18.0</td>\n",
       "      <td>0.0</td>\n",
       "      <td>-73.0</td>\n",
       "      <td>-73.0</td>\n",
       "      <td>0.0</td>\n",
       "      <td>-55.0</td>\n",
       "      <td>4167.0</td>\n",
       "    </tr>\n",
       "  </tbody>\n",
       "</table>\n",
       "</div>"
      ],
      "text/plain": [
       "  ID_SOCIEDAD ID_SEGMENTO SEGMENTO2 ID_LINEA_PRODUCTO_AGREG ID_AGRUP_PRODUCTO  \\\n",
       "0       SOC01       SEG01      LP01                       1                 1   \n",
       "1       SOC02       SEG01      LP01                       1                 1   \n",
       "2       SOC02       SEG01      LP01                       1                 1   \n",
       "3       SOC02       SEG02      LP01                       1                 1   \n",
       "\n",
       "  ID_AGRUP_PROD ID_AGRUP_CANAL ID_ZONA  ID_MES   Año  Fecha_Mes  Altas_M  \\\n",
       "0        PROD12              1  ZONA01  201912  2019 2019-12-31      4.0   \n",
       "1        PROD02              1  ZONA01  201912  2019 2019-12-31      4.0   \n",
       "2        PROD09              1  ZONA01  201912  2019 2019-12-31      3.0   \n",
       "3        PROD02              1  ZONA01  201912  2019 2019-12-31     18.0   \n",
       "\n",
       "   Altas_Mes_C+T  Altas_Mes_Tra  Bajas_M  Bajas_Mes_C+T  Bajas_Mes_Tra  \\\n",
       "0            4.0            0.0     -1.0           -1.0            0.0   \n",
       "1            4.0            0.0     -3.0           -3.0            0.0   \n",
       "2            3.0            0.0   -163.0         -163.0            0.0   \n",
       "3           18.0            0.0    -73.0          -73.0            0.0   \n",
       "\n",
       "   Neto_M  Cartera_Acu  \n",
       "0     3.0        131.0  \n",
       "1     1.0        630.0  \n",
       "2  -160.0      20503.0  \n",
       "3   -55.0       4167.0  "
      ]
     },
     "execution_count": 13,
     "metadata": {},
     "output_type": "execute_result"
    }
   ],
   "source": [
    "# Generamos la base de la relación de fechas\n",
    "base_fecha = data_cartera[data_cartera['Fecha_Mes']!='0.0'][['ID_MES', 'Fecha_Mes', 'Año']].drop_duplicates()\n",
    "# Cambiamos el nombre de la columna\n",
    "base_fecha = base_fecha.rename(columns = {'Fecha_Mes': 'Fecha_Mes_new',\n",
    "                                          'Año': 'Año_new'})\n",
    "# Pegamos la fecha corregida por la derecha\n",
    "data_cartera = pd.merge(data_cartera, \n",
    "                     base_fecha, \n",
    "                     how = 'left',\n",
    "                     on = ['ID_MES']\n",
    "                 )\n",
    "# Sustituimos la fecha antigua por la nueva\n",
    "data_cartera['Fecha_Mes'] = data_cartera['Fecha_Mes_new']\n",
    "# Sustituimos el año antiguo por el nuevo\n",
    "data_cartera['Año'] = data_cartera['Año_new']\n",
    "# Eliminamos la columna introducida\n",
    "data_cartera = data_cartera[col_fin]\n",
    "# Corregimos el tipo de dato a datetime\n",
    "data_cartera['Fecha_Mes'] = pd.to_datetime(data_cartera.Fecha_Mes)\n",
    "\n",
    "# Reseteamos el índice\n",
    "data_cartera.reset_index(inplace = True, drop = True)\n",
    "\n",
    "data_cartera.head(4)"
   ]
  },
  {
   "cell_type": "markdown",
   "id": "8c75dd43",
   "metadata": {},
   "source": [
    "### Guardamos el dataset en el entorno virtual"
   ]
  },
  {
   "cell_type": "code",
   "execution_count": 14,
   "id": "89dc21a7",
   "metadata": {},
   "outputs": [
    {
     "name": "stdout",
     "output_type": "stream",
     "text": [
      "Stored 'data_cartera' (DataFrame)\n"
     ]
    }
   ],
   "source": [
    "%store data_cartera"
   ]
  },
  {
   "cell_type": "markdown",
   "id": "4fd6462f",
   "metadata": {},
   "source": [
    "En este punto tenemos la variable \"Cartera_Acu\" se encuentra con los valores corregidos\n",
    "    \n",
    "Las variables están en el formato que les corresponde"
   ]
  }
 ],
 "metadata": {
  "kernelspec": {
   "display_name": "Python 3 (ipykernel)",
   "language": "python",
   "name": "python3"
  },
  "language_info": {
   "codemirror_mode": {
    "name": "ipython",
    "version": 3
   },
   "file_extension": ".py",
   "mimetype": "text/x-python",
   "name": "python",
   "nbconvert_exporter": "python",
   "pygments_lexer": "ipython3",
   "version": "3.9.13"
  },
  "vscode": {
   "interpreter": {
    "hash": "0b26eca43ff2794ebfcd64423be45fc6ce9985487a083111d5dc1f18719dec52"
   }
  }
 },
 "nbformat": 4,
 "nbformat_minor": 5
}
